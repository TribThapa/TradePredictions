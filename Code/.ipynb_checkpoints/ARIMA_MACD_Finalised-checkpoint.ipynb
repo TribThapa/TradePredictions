{
 "cells": [
  {
   "cell_type": "markdown",
   "id": "80fe9ab3",
   "metadata": {},
   "source": [
    "# ARIMA TIME SERIES - PRICE PREDICTION"
   ]
  },
  {
   "cell_type": "code",
   "execution_count": 1,
   "id": "8375f54a",
   "metadata": {},
   "outputs": [],
   "source": [
    "# Import libraries and dependencies\n",
    "import numpy as np\n",
    "import pandas as pd\n",
    "import datetime\n",
    "import matplotlib.pyplot as plt\n",
    "from itertools import combinations_with_replacement\n",
    "%matplotlib inline\n",
    "\n",
    "# Timeseries packages\n",
    "from statsmodels.graphics.tsaplots import plot_acf, plot_pacf\n",
    "from statsmodels.tsa.stattools import adfuller\n",
    "from statsmodels.tsa.arima_model import ARIMA\n",
    "\n",
    "# MACD packages\n",
    "import yfinance as yf\n",
    "import vectorbt as vbt\n",
    "\n",
    "import warnings\n",
    "warnings.filterwarnings('ignore')"
   ]
  },
  {
   "cell_type": "markdown",
   "id": "b13e7dc3",
   "metadata": {},
   "source": [
    "##"
   ]
  },
  {
   "cell_type": "markdown",
   "id": "e7d970f8",
   "metadata": {},
   "source": [
    "# Data collection and cleaning"
   ]
  },
  {
   "cell_type": "code",
   "execution_count": 2,
   "id": "0689337e",
   "metadata": {},
   "outputs": [
    {
     "name": "stdout",
     "output_type": "stream",
     "text": [
      "[*********************100%***********************]  1 of 1 completed\n"
     ]
    },
    {
     "data": {
      "text/html": [
       "<div>\n",
       "<style scoped>\n",
       "    .dataframe tbody tr th:only-of-type {\n",
       "        vertical-align: middle;\n",
       "    }\n",
       "\n",
       "    .dataframe tbody tr th {\n",
       "        vertical-align: top;\n",
       "    }\n",
       "\n",
       "    .dataframe thead th {\n",
       "        text-align: right;\n",
       "    }\n",
       "</style>\n",
       "<table border=\"1\" class=\"dataframe\">\n",
       "  <thead>\n",
       "    <tr style=\"text-align: right;\">\n",
       "      <th></th>\n",
       "      <th>Open</th>\n",
       "      <th>High</th>\n",
       "      <th>Low</th>\n",
       "      <th>Close</th>\n",
       "      <th>Adj Close</th>\n",
       "      <th>Volume</th>\n",
       "    </tr>\n",
       "    <tr>\n",
       "      <th>Date</th>\n",
       "      <th></th>\n",
       "      <th></th>\n",
       "      <th></th>\n",
       "      <th></th>\n",
       "      <th></th>\n",
       "      <th></th>\n",
       "    </tr>\n",
       "  </thead>\n",
       "  <tbody>\n",
       "    <tr>\n",
       "      <th>2021-08-30</th>\n",
       "      <td>3357.429932</td>\n",
       "      <td>3445.000000</td>\n",
       "      <td>3355.219971</td>\n",
       "      <td>3421.570068</td>\n",
       "      <td>3421.570068</td>\n",
       "      <td>3192200</td>\n",
       "    </tr>\n",
       "    <tr>\n",
       "      <th>2021-08-31</th>\n",
       "      <td>3424.800049</td>\n",
       "      <td>3472.580078</td>\n",
       "      <td>3395.590088</td>\n",
       "      <td>3470.790039</td>\n",
       "      <td>3470.790039</td>\n",
       "      <td>4356400</td>\n",
       "    </tr>\n",
       "    <tr>\n",
       "      <th>2021-09-01</th>\n",
       "      <td>3496.399902</td>\n",
       "      <td>3527.000000</td>\n",
       "      <td>3475.239990</td>\n",
       "      <td>3479.000000</td>\n",
       "      <td>3479.000000</td>\n",
       "      <td>3629900</td>\n",
       "    </tr>\n",
       "    <tr>\n",
       "      <th>2021-09-02</th>\n",
       "      <td>3494.760010</td>\n",
       "      <td>3511.959961</td>\n",
       "      <td>3455.000000</td>\n",
       "      <td>3463.120117</td>\n",
       "      <td>3463.120117</td>\n",
       "      <td>2923700</td>\n",
       "    </tr>\n",
       "    <tr>\n",
       "      <th>2021-09-03</th>\n",
       "      <td>3452.000000</td>\n",
       "      <td>3482.669922</td>\n",
       "      <td>3436.439941</td>\n",
       "      <td>3478.050049</td>\n",
       "      <td>3478.050049</td>\n",
       "      <td>2575700</td>\n",
       "    </tr>\n",
       "  </tbody>\n",
       "</table>\n",
       "</div>"
      ],
      "text/plain": [
       "                   Open         High          Low        Close    Adj Close  \\\n",
       "Date                                                                          \n",
       "2021-08-30  3357.429932  3445.000000  3355.219971  3421.570068  3421.570068   \n",
       "2021-08-31  3424.800049  3472.580078  3395.590088  3470.790039  3470.790039   \n",
       "2021-09-01  3496.399902  3527.000000  3475.239990  3479.000000  3479.000000   \n",
       "2021-09-02  3494.760010  3511.959961  3455.000000  3463.120117  3463.120117   \n",
       "2021-09-03  3452.000000  3482.669922  3436.439941  3478.050049  3478.050049   \n",
       "\n",
       "             Volume  \n",
       "Date                 \n",
       "2021-08-30  3192200  \n",
       "2021-08-31  4356400  \n",
       "2021-09-01  3629900  \n",
       "2021-09-02  2923700  \n",
       "2021-09-03  2575700  "
      ]
     },
     "execution_count": 2,
     "metadata": {},
     "output_type": "execute_result"
    }
   ],
   "source": [
    "# Names of intersted stocks\n",
    "stock_name = ['AMZN']\n",
    "\n",
    "tickers = yf.download(tickers = stock_name,\n",
    "                      start = \"2020-01-01\", \n",
    "                      period=\"max\", \n",
    "                      interval = \"1d\")\n",
    "\n",
    "tickers.tail()"
   ]
  },
  {
   "cell_type": "code",
   "execution_count": 3,
   "id": "e346ecdb",
   "metadata": {},
   "outputs": [
    {
     "data": {
      "text/html": [
       "<div>\n",
       "<style scoped>\n",
       "    .dataframe tbody tr th:only-of-type {\n",
       "        vertical-align: middle;\n",
       "    }\n",
       "\n",
       "    .dataframe tbody tr th {\n",
       "        vertical-align: top;\n",
       "    }\n",
       "\n",
       "    .dataframe thead th {\n",
       "        text-align: right;\n",
       "    }\n",
       "</style>\n",
       "<table border=\"1\" class=\"dataframe\">\n",
       "  <thead>\n",
       "    <tr style=\"text-align: right;\">\n",
       "      <th></th>\n",
       "      <th>Open</th>\n",
       "      <th>High</th>\n",
       "      <th>Low</th>\n",
       "      <th>Close</th>\n",
       "      <th>Adj Close</th>\n",
       "      <th>Volume</th>\n",
       "    </tr>\n",
       "    <tr>\n",
       "      <th>Date</th>\n",
       "      <th></th>\n",
       "      <th></th>\n",
       "      <th></th>\n",
       "      <th></th>\n",
       "      <th></th>\n",
       "      <th></th>\n",
       "    </tr>\n",
       "  </thead>\n",
       "  <tbody>\n",
       "    <tr>\n",
       "      <th>2019-12-31</th>\n",
       "      <td>1842.0</td>\n",
       "      <td>1853.260010</td>\n",
       "      <td>1832.229980</td>\n",
       "      <td>1847.839966</td>\n",
       "      <td>1847.839966</td>\n",
       "      <td>2506500</td>\n",
       "    </tr>\n",
       "    <tr>\n",
       "      <th>2020-01-02</th>\n",
       "      <td>1875.0</td>\n",
       "      <td>1898.010010</td>\n",
       "      <td>1864.150024</td>\n",
       "      <td>1898.010010</td>\n",
       "      <td>1898.010010</td>\n",
       "      <td>4029000</td>\n",
       "    </tr>\n",
       "    <tr>\n",
       "      <th>2020-01-03</th>\n",
       "      <td>1864.5</td>\n",
       "      <td>1886.199951</td>\n",
       "      <td>1864.500000</td>\n",
       "      <td>1874.969971</td>\n",
       "      <td>1874.969971</td>\n",
       "      <td>3764400</td>\n",
       "    </tr>\n",
       "    <tr>\n",
       "      <th>2020-01-06</th>\n",
       "      <td>1860.0</td>\n",
       "      <td>1903.689941</td>\n",
       "      <td>1860.000000</td>\n",
       "      <td>1902.880005</td>\n",
       "      <td>1902.880005</td>\n",
       "      <td>4061800</td>\n",
       "    </tr>\n",
       "    <tr>\n",
       "      <th>2020-01-07</th>\n",
       "      <td>1904.5</td>\n",
       "      <td>1913.890015</td>\n",
       "      <td>1892.040039</td>\n",
       "      <td>1906.859985</td>\n",
       "      <td>1906.859985</td>\n",
       "      <td>4044900</td>\n",
       "    </tr>\n",
       "  </tbody>\n",
       "</table>\n",
       "</div>"
      ],
      "text/plain": [
       "              Open         High          Low        Close    Adj Close  \\\n",
       "Date                                                                     \n",
       "2019-12-31  1842.0  1853.260010  1832.229980  1847.839966  1847.839966   \n",
       "2020-01-02  1875.0  1898.010010  1864.150024  1898.010010  1898.010010   \n",
       "2020-01-03  1864.5  1886.199951  1864.500000  1874.969971  1874.969971   \n",
       "2020-01-06  1860.0  1903.689941  1860.000000  1902.880005  1902.880005   \n",
       "2020-01-07  1904.5  1913.890015  1892.040039  1906.859985  1906.859985   \n",
       "\n",
       "             Volume  \n",
       "Date                 \n",
       "2019-12-31  2506500  \n",
       "2020-01-02  4029000  \n",
       "2020-01-03  3764400  \n",
       "2020-01-06  4061800  \n",
       "2020-01-07  4044900  "
      ]
     },
     "execution_count": 3,
     "metadata": {},
     "output_type": "execute_result"
    }
   ],
   "source": [
    "# Drop duplicates\n",
    "tickers.drop_duplicates(inplace=False)\n",
    "\n",
    "# Drop NA and infinite values\n",
    "tickers = tickers.replace(-np.inf, np.nan).dropna()\n",
    "\n",
    "tickers.head()"
   ]
  },
  {
   "cell_type": "code",
   "execution_count": 4,
   "id": "86f7928f",
   "metadata": {},
   "outputs": [
    {
     "data": {
      "text/plain": [
       "Open         0\n",
       "High         0\n",
       "Low          0\n",
       "Close        0\n",
       "Adj Close    0\n",
       "Volume       0\n",
       "dtype: int64"
      ]
     },
     "execution_count": 4,
     "metadata": {},
     "output_type": "execute_result"
    }
   ],
   "source": [
    "# Count nulls/checking final df\n",
    "tickers.isnull().sum()"
   ]
  },
  {
   "cell_type": "markdown",
   "id": "3af7ced0",
   "metadata": {},
   "source": [
    "##"
   ]
  },
  {
   "cell_type": "markdown",
   "id": "81a32da9",
   "metadata": {},
   "source": [
    "# Autocorrelation and Partial Autocorrelation Analysis"
   ]
  },
  {
   "cell_type": "code",
   "execution_count": 5,
   "id": "bf48d249",
   "metadata": {},
   "outputs": [
    {
     "data": {
      "image/png": "[encoded data removed]",
      "text/plain": [
       "<Figure size 720x360 with 1 Axes>"
      ]
     },
     "metadata": {
      "needs_background": "light"
     },
     "output_type": "display_data"
    }
   ],
   "source": [
    "# Plot ACF\n",
    "plt.rcParams[\"figure.figsize\"] = [10,5]\n",
    "plot_acf(tickers.Close, lags=20);"
   ]
  },
  {
   "cell_type": "code",
   "execution_count": 6,
   "id": "a36faefd",
   "metadata": {},
   "outputs": [
    {
     "data": {
      "image/png": "[encoded data removed]",
      "text/plain": [
       "<Figure size 720x360 with 1 Axes>"
      ]
     },
     "metadata": {
      "needs_background": "light"
     },
     "output_type": "display_data"
    }
   ],
   "source": [
    "# Plot PACF\n",
    "plt.rcParams[\"figure.figsize\"] = [10,5]\n",
    "plot_pacf(tickers.Close, zero=False, lags=20);"
   ]
  },
  {
   "cell_type": "code",
   "execution_count": 7,
   "id": "bc4c4677",
   "metadata": {},
   "outputs": [
    {
     "data": {
      "text/plain": [
       "(-1.8080521346412601,\n",
       " 0.3764714238011328,\n",
       " 0,\n",
       " 423,\n",
       " {'1%': -3.4459042013025836,\n",
       "  '5%': -2.8683970525583358,\n",
       "  '10%': -2.5704225783970176},\n",
       " 4460.4129121608)"
      ]
     },
     "execution_count": 7,
     "metadata": {},
     "output_type": "execute_result"
    }
   ],
   "source": [
    "# Augmented Dickey-Fuller Test (ADF) Statistical Test for stationarity (https://www.hackdeploy.com/augmented-dickey-fuller-test-in-python/)\n",
    "adfuller(tickers.Close)"
   ]
  },
  {
   "cell_type": "markdown",
   "id": "5c3d4646",
   "metadata": {},
   "source": [
    "##"
   ]
  },
  {
   "cell_type": "markdown",
   "id": "a3ba9ced",
   "metadata": {},
   "source": [
    "## Create loop to determine best P I Q values for ARIMA"
   ]
  },
  {
   "cell_type": "code",
   "execution_count": 8,
   "id": "8588bc25",
   "metadata": {},
   "outputs": [
    {
     "name": "stdout",
     "output_type": "stream",
     "text": [
      "[(1, 1, 1), (1, 1, 1), (1, 1, 1), (1, 1, 1), (1, 1, 1), (1, 1, 1), (1, 1, 1), (1, 1, 1), (1, 1, 1), (1, 1, 1)]\n"
     ]
    }
   ],
   "source": [
    "# Get all combinations of [1, 2, 1]\n",
    "comb1 = combinations_with_replacement([1, 1, 1], 3)\n",
    "\n",
    "variables_list1 = []\n",
    "\n",
    "# Print the obtained combinations\n",
    "for i in list(comb1):\n",
    "    if i[1] == 1:            \n",
    "        variables_list1.append(i)\n",
    "    \n",
    "print(variables_list1)"
   ]
  },
  {
   "cell_type": "code",
   "execution_count": 9,
   "id": "56ceff30",
   "metadata": {},
   "outputs": [
    {
     "name": "stdout",
     "output_type": "stream",
     "text": [
      "[(1, 1, 1), (1, 1, 1), (1, 1, 2), (1, 1, 1), (1, 1, 2), (1, 1, 1), (1, 1, 2)]\n"
     ]
    }
   ],
   "source": [
    "# Get all combinations of [1, 1, 2] \n",
    "comb2 = combinations_with_replacement([1, 1, 2], 3)\n",
    "\n",
    "variables_list2 = []\n",
    "\n",
    "# Print the obtained combinations\n",
    "for i in list(comb2):\n",
    "    if i[1] == 1:            \n",
    "        variables_list2.append(i)\n",
    "    \n",
    "print(variables_list2)"
   ]
  },
  {
   "cell_type": "code",
   "execution_count": 10,
   "id": "12603a64",
   "metadata": {},
   "outputs": [
    {
     "name": "stdout",
     "output_type": "stream",
     "text": [
      "[(1, 1, 1), (1, 1, 1), (1, 1, 3), (1, 1, 1), (1, 1, 3), (1, 1, 1), (1, 1, 3)]\n"
     ]
    }
   ],
   "source": [
    "# Get all combinations of [1, 1, 3] \n",
    "comb3 = combinations_with_replacement([1, 1, 3], 3)\n",
    "\n",
    "variables_list3 = []\n",
    "\n",
    "# Print the obtained combinations\n",
    "for i in list(comb3):\n",
    "    if i[1] == 1:            \n",
    "        variables_list3.append(i)\n",
    "    \n",
    "print(variables_list3)"
   ]
  },
  {
   "cell_type": "code",
   "execution_count": 11,
   "id": "306adce4",
   "metadata": {},
   "outputs": [
    {
     "name": "stdout",
     "output_type": "stream",
     "text": [
      "[(2, 1, 1), (2, 1, 3), (1, 1, 1), (1, 1, 3)]\n"
     ]
    }
   ],
   "source": [
    "# Get all combinations of [2, 1, 3]\n",
    "comb4 = combinations_with_replacement([2, 1, 3], 3)\n",
    "\n",
    "variables_list4 = []\n",
    "\n",
    "# Print the obtained combinations\n",
    "for i in list(comb4):\n",
    "    if i[1] == 1:            \n",
    "        variables_list4.append(i)\n",
    "    \n",
    "print(variables_list4)"
   ]
  },
  {
   "cell_type": "code",
   "execution_count": 12,
   "id": "c9c2cf05",
   "metadata": {},
   "outputs": [
    {
     "name": "stdout",
     "output_type": "stream",
     "text": [
      "[(1, 1, 1), (1, 1, 1), (1, 1, 1), (1, 1, 1), (1, 1, 1), (1, 1, 1), (1, 1, 1), (1, 1, 1), (1, 1, 1), (1, 1, 1), (1, 1, 1), (1, 1, 1), (1, 1, 2), (1, 1, 1), (1, 1, 2), (1, 1, 1), (1, 1, 2), (1, 1, 1), (1, 1, 1), (1, 1, 3), (1, 1, 1), (1, 1, 3), (1, 1, 1), (1, 1, 3), (2, 1, 1), (2, 1, 3), (1, 1, 1), (1, 1, 3)]\n"
     ]
    }
   ],
   "source": [
    "variables_list = variables_list1 + variables_list2 + variables_list3 + variables_list4\n",
    "\n",
    "print(variables_list)"
   ]
  },
  {
   "cell_type": "code",
   "execution_count": 13,
   "id": "8f9862c9",
   "metadata": {},
   "outputs": [],
   "source": [
    "results_aic = []\n",
    "results_bic = []\n",
    "\n",
    "for combination in variables_list:\n",
    "    model = ARIMA(tickers['Close'], \n",
    "                  order=combination)\n",
    "    \n",
    "    results = model.fit()\n",
    "    \n",
    "    results_aic.append(results.aic)\n",
    "    results_bic.append(results.bic)\n",
    "    \n",
    "df = pd.DataFrame({'aic':results_aic,\n",
    "                   'bic':results_bic},\n",
    "                  index=variables_list).sort_values(by='aic')"
   ]
  },
  {
   "cell_type": "code",
   "execution_count": 14,
   "id": "2f174e64",
   "metadata": {},
   "outputs": [
    {
     "data": {
      "text/html": [
       "<div>\n",
       "<style scoped>\n",
       "    .dataframe tbody tr th:only-of-type {\n",
       "        vertical-align: middle;\n",
       "    }\n",
       "\n",
       "    .dataframe tbody tr th {\n",
       "        vertical-align: top;\n",
       "    }\n",
       "\n",
       "    .dataframe thead th {\n",
       "        text-align: right;\n",
       "    }\n",
       "</style>\n",
       "<table border=\"1\" class=\"dataframe\">\n",
       "  <thead>\n",
       "    <tr style=\"text-align: right;\">\n",
       "      <th></th>\n",
       "      <th>aic</th>\n",
       "      <th>bic</th>\n",
       "    </tr>\n",
       "  </thead>\n",
       "  <tbody>\n",
       "    <tr>\n",
       "      <th>(2, 1, 1)</th>\n",
       "      <td>4650.458895</td>\n",
       "      <td>4670.695756</td>\n",
       "    </tr>\n",
       "    <tr>\n",
       "      <th>(1, 1, 2)</th>\n",
       "      <td>4650.339605</td>\n",
       "      <td>4670.576466</td>\n",
       "    </tr>\n",
       "    <tr>\n",
       "      <th>(1, 1, 2)</th>\n",
       "      <td>4650.339605</td>\n",
       "      <td>4670.576466</td>\n",
       "    </tr>\n",
       "    <tr>\n",
       "      <th>(1, 1, 2)</th>\n",
       "      <td>4650.339605</td>\n",
       "      <td>4670.576466</td>\n",
       "    </tr>\n",
       "    <tr>\n",
       "      <th>(1, 1, 3)</th>\n",
       "      <td>4649.073335</td>\n",
       "      <td>4673.357568</td>\n",
       "    </tr>\n",
       "  </tbody>\n",
       "</table>\n",
       "</div>"
      ],
      "text/plain": [
       "                   aic          bic\n",
       "(2, 1, 1)  4650.458895  4670.695756\n",
       "(1, 1, 2)  4650.339605  4670.576466\n",
       "(1, 1, 2)  4650.339605  4670.576466\n",
       "(1, 1, 2)  4650.339605  4670.576466\n",
       "(1, 1, 3)  4649.073335  4673.357568"
      ]
     },
     "execution_count": 14,
     "metadata": {},
     "output_type": "execute_result"
    }
   ],
   "source": [
    "aic_df_sorted = df.sort_values(by=['aic'], ascending=False)\n",
    "\n",
    "aic_df_sorted.head()"
   ]
  },
  {
   "cell_type": "code",
   "execution_count": 15,
   "id": "59f482f0",
   "metadata": {},
   "outputs": [
    {
     "data": {
      "text/html": [
       "<div>\n",
       "<style scoped>\n",
       "    .dataframe tbody tr th:only-of-type {\n",
       "        vertical-align: middle;\n",
       "    }\n",
       "\n",
       "    .dataframe tbody tr th {\n",
       "        vertical-align: top;\n",
       "    }\n",
       "\n",
       "    .dataframe thead th {\n",
       "        text-align: right;\n",
       "    }\n",
       "</style>\n",
       "<table border=\"1\" class=\"dataframe\">\n",
       "  <thead>\n",
       "    <tr style=\"text-align: right;\">\n",
       "      <th></th>\n",
       "      <th>aic</th>\n",
       "      <th>bic</th>\n",
       "    </tr>\n",
       "  </thead>\n",
       "  <tbody>\n",
       "    <tr>\n",
       "      <th>(1, 1, 3)</th>\n",
       "      <td>4649.073335</td>\n",
       "      <td>4673.357568</td>\n",
       "    </tr>\n",
       "    <tr>\n",
       "      <th>(1, 1, 3)</th>\n",
       "      <td>4649.073335</td>\n",
       "      <td>4673.357568</td>\n",
       "    </tr>\n",
       "    <tr>\n",
       "      <th>(1, 1, 3)</th>\n",
       "      <td>4649.073335</td>\n",
       "      <td>4673.357568</td>\n",
       "    </tr>\n",
       "    <tr>\n",
       "      <th>(1, 1, 3)</th>\n",
       "      <td>4649.073335</td>\n",
       "      <td>4673.357568</td>\n",
       "    </tr>\n",
       "    <tr>\n",
       "      <th>(2, 1, 3)</th>\n",
       "      <td>4643.030941</td>\n",
       "      <td>4671.362547</td>\n",
       "    </tr>\n",
       "  </tbody>\n",
       "</table>\n",
       "</div>"
      ],
      "text/plain": [
       "                   aic          bic\n",
       "(1, 1, 3)  4649.073335  4673.357568\n",
       "(1, 1, 3)  4649.073335  4673.357568\n",
       "(1, 1, 3)  4649.073335  4673.357568\n",
       "(1, 1, 3)  4649.073335  4673.357568\n",
       "(2, 1, 3)  4643.030941  4671.362547"
      ]
     },
     "execution_count": 15,
     "metadata": {},
     "output_type": "execute_result"
    }
   ],
   "source": [
    "bic_df_sorted = df.sort_values(by=['bic'], ascending=False)\n",
    "\n",
    "bic_df_sorted.head()"
   ]
  },
  {
   "cell_type": "code",
   "execution_count": 16,
   "id": "8143143e",
   "metadata": {},
   "outputs": [
    {
     "data": {
      "text/html": [
       "<table class=\"simpletable\">\n",
       "<caption>ARIMA Model Results</caption>\n",
       "<tr>\n",
       "  <th>Dep. Variable:</th>      <td>D.Close</td>     <th>  No. Observations:  </th>    <td>423</td>   \n",
       "</tr>\n",
       "<tr>\n",
       "  <th>Model:</th>          <td>ARIMA(2, 1, 1)</td>  <th>  Log Likelihood     </th> <td>-2320.229</td>\n",
       "</tr>\n",
       "<tr>\n",
       "  <th>Method:</th>             <td>css-mle</td>     <th>  S.D. of innovations</th>  <td>58.336</td>  \n",
       "</tr>\n",
       "<tr>\n",
       "  <th>Date:</th>          <td>Mon, 06 Sep 2021</td> <th>  AIC                </th> <td>4650.459</td> \n",
       "</tr>\n",
       "<tr>\n",
       "  <th>Time:</th>              <td>13:09:37</td>     <th>  BIC                </th> <td>4670.696</td> \n",
       "</tr>\n",
       "<tr>\n",
       "  <th>Sample:</th>                <td>1</td>        <th>  HQIC               </th> <td>4658.455</td> \n",
       "</tr>\n",
       "<tr>\n",
       "  <th></th>                       <td> </td>        <th>                     </th>     <td> </td>    \n",
       "</tr>\n",
       "</table>\n",
       "<table class=\"simpletable\">\n",
       "<tr>\n",
       "        <td></td>           <th>coef</th>     <th>std err</th>      <th>z</th>      <th>P>|z|</th>  <th>[0.025</th>    <th>0.975]</th>  \n",
       "</tr>\n",
       "<tr>\n",
       "  <th>const</th>         <td>    3.8494</td> <td>    2.832</td> <td>    1.359</td> <td> 0.174</td> <td>   -1.702</td> <td>    9.401</td>\n",
       "</tr>\n",
       "<tr>\n",
       "  <th>ar.L1.D.Close</th> <td>   -0.5914</td> <td>    0.243</td> <td>   -2.431</td> <td> 0.015</td> <td>   -1.068</td> <td>   -0.114</td>\n",
       "</tr>\n",
       "<tr>\n",
       "  <th>ar.L2.D.Close</th> <td>    0.0337</td> <td>    0.053</td> <td>    0.640</td> <td> 0.522</td> <td>   -0.069</td> <td>    0.137</td>\n",
       "</tr>\n",
       "<tr>\n",
       "  <th>ma.L1.D.Close</th> <td>    0.5556</td> <td>    0.239</td> <td>    2.324</td> <td> 0.020</td> <td>    0.087</td> <td>    1.024</td>\n",
       "</tr>\n",
       "</table>\n",
       "<table class=\"simpletable\">\n",
       "<caption>Roots</caption>\n",
       "<tr>\n",
       "    <td></td>   <th>            Real</th>  <th>         Imaginary</th> <th>         Modulus</th>  <th>        Frequency</th>\n",
       "</tr>\n",
       "<tr>\n",
       "  <th>AR.1</th> <td>          -1.5535</td> <td>          +0.0000j</td> <td>           1.5535</td> <td>           0.5000</td>\n",
       "</tr>\n",
       "<tr>\n",
       "  <th>AR.2</th> <td>          19.1080</td> <td>          +0.0000j</td> <td>          19.1080</td> <td>           0.0000</td>\n",
       "</tr>\n",
       "<tr>\n",
       "  <th>MA.1</th> <td>          -1.8000</td> <td>          +0.0000j</td> <td>           1.8000</td> <td>           0.5000</td>\n",
       "</tr>\n",
       "</table>"
      ],
      "text/plain": [
       "<class 'statsmodels.iolib.summary.Summary'>\n",
       "\"\"\"\n",
       "                             ARIMA Model Results                              \n",
       "==============================================================================\n",
       "Dep. Variable:                D.Close   No. Observations:                  423\n",
       "Model:                 ARIMA(2, 1, 1)   Log Likelihood               -2320.229\n",
       "Method:                       css-mle   S.D. of innovations             58.336\n",
       "Date:                Mon, 06 Sep 2021   AIC                           4650.459\n",
       "Time:                        13:09:37   BIC                           4670.696\n",
       "Sample:                             1   HQIC                          4658.455\n",
       "                                                                              \n",
       "=================================================================================\n",
       "                    coef    std err          z      P>|z|      [0.025      0.975]\n",
       "---------------------------------------------------------------------------------\n",
       "const             3.8494      2.832      1.359      0.174      -1.702       9.401\n",
       "ar.L1.D.Close    -0.5914      0.243     -2.431      0.015      -1.068      -0.114\n",
       "ar.L2.D.Close     0.0337      0.053      0.640      0.522      -0.069       0.137\n",
       "ma.L1.D.Close     0.5556      0.239      2.324      0.020       0.087       1.024\n",
       "                                    Roots                                    \n",
       "=============================================================================\n",
       "                  Real          Imaginary           Modulus         Frequency\n",
       "-----------------------------------------------------------------------------\n",
       "AR.1           -1.5535           +0.0000j            1.5535            0.5000\n",
       "AR.2           19.1080           +0.0000j           19.1080            0.0000\n",
       "MA.1           -1.8000           +0.0000j            1.8000            0.5000\n",
       "-----------------------------------------------------------------------------\n",
       "\"\"\""
      ]
     },
     "execution_count": 16,
     "metadata": {},
     "output_type": "execute_result"
    }
   ],
   "source": [
    "# Rerun ARIMA using optimised AIC (https://stats.stackexchange.com/questions/577/is-there-any-reason-to-prefer-the-aic-or-bic-over-the-other)\n",
    "model_refined = ARIMA(tickers['Close'],\n",
    "                      order=aic_df_sorted.index[0])\n",
    "\n",
    "results_refined = model_refined.fit()\n",
    "\n",
    "results_refined.summary()"
   ]
  },
  {
   "cell_type": "code",
   "execution_count": 33,
   "id": "dd2c728c-f439-43ab-9f60-f052f6a64122",
   "metadata": {},
   "outputs": [],
   "source": [
    "# Forecast\n",
    "fc, se, conf = results_refined.forecast(5, alpha=0.05)  # 95% conf\n",
    "\n",
    "# Make as pandas series\n",
    "fc_series = pd.Series(fc, index=pd.date_range(tickers['Close'].index[-1] + datetime.timedelta(days=1), periods=5).tolist())\n",
    "lower_series = pd.Series(conf[:, 0], index=pd.date_range(tickers['Close'].index[-1] + datetime.timedelta(days=1), periods=5).tolist())\n",
    "upper_series = pd.Series(conf[:, 1], index=pd.date_range(tickers['Close'].index[-1] + datetime.timedelta(days=1), periods=5).tolist())\n",
    "se = pd.Series(se, index=pd.date_range(tickers['Close'].index[-1] + datetime.timedelta(days=1), periods=5).tolist())"
   ]
  },
  {
   "cell_type": "code",
   "execution_count": 42,
   "id": "9bf1a558-7b52-4060-b4c3-bc6724593ec4",
   "metadata": {},
   "outputs": [
    {
     "data": {
      "text/html": [
       "<div>\n",
       "<style scoped>\n",
       "    .dataframe tbody tr th:only-of-type {\n",
       "        vertical-align: middle;\n",
       "    }\n",
       "\n",
       "    .dataframe tbody tr th {\n",
       "        vertical-align: top;\n",
       "    }\n",
       "\n",
       "    .dataframe thead th {\n",
       "        text-align: right;\n",
       "    }\n",
       "</style>\n",
       "<table border=\"1\" class=\"dataframe\">\n",
       "  <thead>\n",
       "    <tr style=\"text-align: right;\">\n",
       "      <th></th>\n",
       "      <th>Forecaseted values</th>\n",
       "      <th>Std Error</th>\n",
       "      <th>Low CI</th>\n",
       "      <th>High CI</th>\n",
       "    </tr>\n",
       "  </thead>\n",
       "  <tbody>\n",
       "    <tr>\n",
       "      <th>2021-09-04</th>\n",
       "      <td>3480.534003</td>\n",
       "      <td>58.336172</td>\n",
       "      <td>3366.197208</td>\n",
       "      <td>3594.870798</td>\n",
       "    </tr>\n",
       "    <tr>\n",
       "      <th>2021-09-05</th>\n",
       "      <td>3485.564153</td>\n",
       "      <td>81.037001</td>\n",
       "      <td>3326.734549</td>\n",
       "      <td>3644.393757</td>\n",
       "    </tr>\n",
       "    <tr>\n",
       "      <th>2021-09-06</th>\n",
       "      <td>3488.669323</td>\n",
       "      <td>100.504155</td>\n",
       "      <td>3291.684799</td>\n",
       "      <td>3685.653847</td>\n",
       "    </tr>\n",
       "    <tr>\n",
       "      <th>2021-09-07</th>\n",
       "      <td>3492.998618</td>\n",
       "      <td>115.782933</td>\n",
       "      <td>3266.068239</td>\n",
       "      <td>3719.928997</td>\n",
       "    </tr>\n",
       "    <tr>\n",
       "      <th>2021-09-08</th>\n",
       "      <td>3496.539171</td>\n",
       "      <td>129.837294</td>\n",
       "      <td>3242.062751</td>\n",
       "      <td>3751.015590</td>\n",
       "    </tr>\n",
       "  </tbody>\n",
       "</table>\n",
       "</div>"
      ],
      "text/plain": [
       "            Forecaseted values   Std Error       Low CI      High CI\n",
       "2021-09-04         3480.534003   58.336172  3366.197208  3594.870798\n",
       "2021-09-05         3485.564153   81.037001  3326.734549  3644.393757\n",
       "2021-09-06         3488.669323  100.504155  3291.684799  3685.653847\n",
       "2021-09-07         3492.998618  115.782933  3266.068239  3719.928997\n",
       "2021-09-08         3496.539171  129.837294  3242.062751  3751.015590"
      ]
     },
     "execution_count": 42,
     "metadata": {},
     "output_type": "execute_result"
    }
   ],
   "source": [
    "forecast_summary = pd.concat([fc_series, se, lower_series, upper_series], axis=1)\n",
    "\n",
    "forecast_summary.rename(columns={0: \"Forecaseted values\",\n",
    "                                 1: \"Std Error\",\n",
    "                                 2: \"Low CI\",\n",
    "                                 3: \"High CI\"}, inplace=True)\n",
    "\n",
    "\n",
    "forecast_summary"
   ]
  },
  {
   "cell_type": "code",
   "execution_count": 18,
   "id": "75634b0f-bca7-40e3-92d0-39a896edf9d2",
   "metadata": {},
   "outputs": [
    {
     "data": {
      "image/png": "[encoded data removed]",
      "text/plain": [
       "<Figure size 1200x500 with 1 Axes>"
      ]
     },
     "metadata": {
      "needs_background": "light"
     },
     "output_type": "display_data"
    }
   ],
   "source": [
    "plt.figure(figsize=(12,5), dpi=100)\n",
    "\n",
    "plt.plot(tickers['Close'], label='Actual')\n",
    "plt.plot(fc_series, label='Forecast')\n",
    "plt.fill_between(lower_series.index, lower_series, upper_series, \n",
    "                 color='k', alpha=.15)\n",
    "plt.title('Forecast vs Actuals')\n",
    "plt.legend(loc='upper left', fontsize=8)\n",
    "plt.show()"
   ]
  },
  {
   "cell_type": "code",
   "execution_count": 19,
   "id": "35eaa5ed",
   "metadata": {},
   "outputs": [
    {
     "data": {
      "text/html": [
       "<div>\n",
       "<style scoped>\n",
       "    .dataframe tbody tr th:only-of-type {\n",
       "        vertical-align: middle;\n",
       "    }\n",
       "\n",
       "    .dataframe tbody tr th {\n",
       "        vertical-align: top;\n",
       "    }\n",
       "\n",
       "    .dataframe thead th {\n",
       "        text-align: right;\n",
       "    }\n",
       "</style>\n",
       "<table border=\"1\" class=\"dataframe\">\n",
       "  <thead>\n",
       "    <tr style=\"text-align: right;\">\n",
       "      <th></th>\n",
       "      <th>0</th>\n",
       "    </tr>\n",
       "  </thead>\n",
       "  <tbody>\n",
       "    <tr>\n",
       "      <th>2021-09-04</th>\n",
       "      <td>3480.534003</td>\n",
       "    </tr>\n",
       "    <tr>\n",
       "      <th>2021-09-05</th>\n",
       "      <td>3485.564153</td>\n",
       "    </tr>\n",
       "    <tr>\n",
       "      <th>2021-09-06</th>\n",
       "      <td>3488.669323</td>\n",
       "    </tr>\n",
       "    <tr>\n",
       "      <th>2021-09-07</th>\n",
       "      <td>3492.998618</td>\n",
       "    </tr>\n",
       "    <tr>\n",
       "      <th>2021-09-08</th>\n",
       "      <td>3496.539171</td>\n",
       "    </tr>\n",
       "  </tbody>\n",
       "</table>\n",
       "</div>"
      ],
      "text/plain": [
       "                      0\n",
       "2021-09-04  3480.534003\n",
       "2021-09-05  3485.564153\n",
       "2021-09-06  3488.669323\n",
       "2021-09-07  3492.998618\n",
       "2021-09-08  3496.539171"
      ]
     },
     "metadata": {},
     "output_type": "display_data"
    },
    {
     "data": {
      "text/plain": [
       "<AxesSubplot:title={'center':'5 Days Forecast'}>"
      ]
     },
     "execution_count": 19,
     "metadata": {},
     "output_type": "execute_result"
    },
    {
     "data": {
      "image/png": "[encoded data removed]",
      "text/plain": [
       "<Figure size 720x360 with 1 Axes>"
      ]
     },
     "metadata": {
      "needs_background": "light"
     },
     "output_type": "display_data"
    }
   ],
   "source": [
    "# Forecast close prices\n",
    "predicted_df = pd.DataFrame(results_refined.forecast(steps=5)[0],\n",
    "                            index=pd.date_range(tickers['Close'].index[-1] + datetime.timedelta(days=1), periods=5).tolist())\n",
    "\n",
    "display(predicted_df.head())\n",
    "\n",
    "plt.rcParams[\"figure.figsize\"] = [10,5]\n",
    "\n",
    "predicted_df.plot(title=\"5 Days Forecast\")"
   ]
  },
  {
   "cell_type": "code",
   "execution_count": 20,
   "id": "50f11728",
   "metadata": {},
   "outputs": [
    {
     "data": {
      "text/plain": [
       "Date\n",
       "2019-12-31    1847.839966\n",
       "2020-01-02    1898.010010\n",
       "2020-01-03    1874.969971\n",
       "2020-01-06    1902.880005\n",
       "2020-01-07    1906.859985\n",
       "Name: Close, dtype: float64"
      ]
     },
     "execution_count": 20,
     "metadata": {},
     "output_type": "execute_result"
    }
   ],
   "source": [
    "# Actual close price\n",
    "actual_close = tickers['Close']\n",
    "\n",
    "actual_close.head()"
   ]
  },
  {
   "cell_type": "code",
   "execution_count": 21,
   "id": "e77d56f9",
   "metadata": {},
   "outputs": [
    {
     "name": "stdout",
     "output_type": "stream",
     "text": [
      "Head\n"
     ]
    },
    {
     "data": {
      "text/html": [
       "<div>\n",
       "<style scoped>\n",
       "    .dataframe tbody tr th:only-of-type {\n",
       "        vertical-align: middle;\n",
       "    }\n",
       "\n",
       "    .dataframe tbody tr th {\n",
       "        vertical-align: top;\n",
       "    }\n",
       "\n",
       "    .dataframe thead th {\n",
       "        text-align: right;\n",
       "    }\n",
       "</style>\n",
       "<table border=\"1\" class=\"dataframe\">\n",
       "  <thead>\n",
       "    <tr style=\"text-align: right;\">\n",
       "      <th></th>\n",
       "      <th>0</th>\n",
       "    </tr>\n",
       "  </thead>\n",
       "  <tbody>\n",
       "    <tr>\n",
       "      <th>2019-12-31</th>\n",
       "      <td>1847.839966</td>\n",
       "    </tr>\n",
       "    <tr>\n",
       "      <th>2020-01-02</th>\n",
       "      <td>1898.010010</td>\n",
       "    </tr>\n",
       "    <tr>\n",
       "      <th>2020-01-03</th>\n",
       "      <td>1874.969971</td>\n",
       "    </tr>\n",
       "    <tr>\n",
       "      <th>2020-01-06</th>\n",
       "      <td>1902.880005</td>\n",
       "    </tr>\n",
       "    <tr>\n",
       "      <th>2020-01-07</th>\n",
       "      <td>1906.859985</td>\n",
       "    </tr>\n",
       "  </tbody>\n",
       "</table>\n",
       "</div>"
      ],
      "text/plain": [
       "                      0\n",
       "2019-12-31  1847.839966\n",
       "2020-01-02  1898.010010\n",
       "2020-01-03  1874.969971\n",
       "2020-01-06  1902.880005\n",
       "2020-01-07  1906.859985"
      ]
     },
     "metadata": {},
     "output_type": "display_data"
    },
    {
     "name": "stdout",
     "output_type": "stream",
     "text": [
      "\n",
      "Tail\n"
     ]
    },
    {
     "data": {
      "text/html": [
       "<div>\n",
       "<style scoped>\n",
       "    .dataframe tbody tr th:only-of-type {\n",
       "        vertical-align: middle;\n",
       "    }\n",
       "\n",
       "    .dataframe tbody tr th {\n",
       "        vertical-align: top;\n",
       "    }\n",
       "\n",
       "    .dataframe thead th {\n",
       "        text-align: right;\n",
       "    }\n",
       "</style>\n",
       "<table border=\"1\" class=\"dataframe\">\n",
       "  <thead>\n",
       "    <tr style=\"text-align: right;\">\n",
       "      <th></th>\n",
       "      <th>0</th>\n",
       "    </tr>\n",
       "  </thead>\n",
       "  <tbody>\n",
       "    <tr>\n",
       "      <th>2021-09-04</th>\n",
       "      <td>3480.534003</td>\n",
       "    </tr>\n",
       "    <tr>\n",
       "      <th>2021-09-05</th>\n",
       "      <td>3485.564153</td>\n",
       "    </tr>\n",
       "    <tr>\n",
       "      <th>2021-09-06</th>\n",
       "      <td>3488.669323</td>\n",
       "    </tr>\n",
       "    <tr>\n",
       "      <th>2021-09-07</th>\n",
       "      <td>3492.998618</td>\n",
       "    </tr>\n",
       "    <tr>\n",
       "      <th>2021-09-08</th>\n",
       "      <td>3496.539171</td>\n",
       "    </tr>\n",
       "  </tbody>\n",
       "</table>\n",
       "</div>"
      ],
      "text/plain": [
       "                      0\n",
       "2021-09-04  3480.534003\n",
       "2021-09-05  3485.564153\n",
       "2021-09-06  3488.669323\n",
       "2021-09-07  3492.998618\n",
       "2021-09-08  3496.539171"
      ]
     },
     "metadata": {},
     "output_type": "display_data"
    }
   ],
   "source": [
    "# Concat data\n",
    "prev_predit_df = pd.concat([actual_close, predicted_df],\n",
    "                           axis=0)\n",
    "\n",
    "print(\"Head\")\n",
    "display(prev_predit_df.head())\n",
    "print()\n",
    "print(\"Tail\")\n",
    "display(prev_predit_df.tail())"
   ]
  },
  {
   "cell_type": "code",
   "execution_count": 22,
   "id": "c8c9be68",
   "metadata": {},
   "outputs": [
    {
     "data": {
      "text/html": [
       "<div>\n",
       "<style scoped>\n",
       "    .dataframe tbody tr th:only-of-type {\n",
       "        vertical-align: middle;\n",
       "    }\n",
       "\n",
       "    .dataframe tbody tr th {\n",
       "        vertical-align: top;\n",
       "    }\n",
       "\n",
       "    .dataframe thead th {\n",
       "        text-align: right;\n",
       "    }\n",
       "</style>\n",
       "<table border=\"1\" class=\"dataframe\">\n",
       "  <thead>\n",
       "    <tr style=\"text-align: right;\">\n",
       "      <th></th>\n",
       "      <th>Close</th>\n",
       "    </tr>\n",
       "    <tr>\n",
       "      <th>Date</th>\n",
       "      <th></th>\n",
       "    </tr>\n",
       "  </thead>\n",
       "  <tbody>\n",
       "    <tr>\n",
       "      <th>2019-12-31</th>\n",
       "      <td>1847.839966</td>\n",
       "    </tr>\n",
       "    <tr>\n",
       "      <th>2020-01-02</th>\n",
       "      <td>1898.010010</td>\n",
       "    </tr>\n",
       "    <tr>\n",
       "      <th>2020-01-03</th>\n",
       "      <td>1874.969971</td>\n",
       "    </tr>\n",
       "    <tr>\n",
       "      <th>2020-01-06</th>\n",
       "      <td>1902.880005</td>\n",
       "    </tr>\n",
       "    <tr>\n",
       "      <th>2020-01-07</th>\n",
       "      <td>1906.859985</td>\n",
       "    </tr>\n",
       "  </tbody>\n",
       "</table>\n",
       "</div>"
      ],
      "text/plain": [
       "                  Close\n",
       "Date                   \n",
       "2019-12-31  1847.839966\n",
       "2020-01-02  1898.010010\n",
       "2020-01-03  1874.969971\n",
       "2020-01-06  1902.880005\n",
       "2020-01-07  1906.859985"
      ]
     },
     "execution_count": 22,
     "metadata": {},
     "output_type": "execute_result"
    }
   ],
   "source": [
    "# Rename col header\n",
    "prev_predit_df.rename(columns={0: \"Close\"}, inplace=True)\n",
    "\n",
    "# Rename index\n",
    "prev_predit_df.index.names=[\"Date\"]\n",
    "\n",
    "# Display final df\n",
    "prev_predit_df.head()"
   ]
  },
  {
   "cell_type": "markdown",
   "id": "7ac51022",
   "metadata": {},
   "source": [
    "##"
   ]
  },
  {
   "cell_type": "markdown",
   "id": "c3aeda18",
   "metadata": {},
   "source": [
    "##"
   ]
  },
  {
   "cell_type": "markdown",
   "id": "97aaa9aa",
   "metadata": {},
   "source": [
    "# Prep for MACD "
   ]
  },
  {
   "cell_type": "code",
   "execution_count": 23,
   "id": "b12ff5b5",
   "metadata": {},
   "outputs": [
    {
     "data": {
      "text/html": [
       "<div>\n",
       "<style scoped>\n",
       "    .dataframe tbody tr th:only-of-type {\n",
       "        vertical-align: middle;\n",
       "    }\n",
       "\n",
       "    .dataframe tbody tr th {\n",
       "        vertical-align: top;\n",
       "    }\n",
       "\n",
       "    .dataframe thead th {\n",
       "        text-align: right;\n",
       "    }\n",
       "</style>\n",
       "<table border=\"1\" class=\"dataframe\">\n",
       "  <thead>\n",
       "    <tr style=\"text-align: right;\">\n",
       "      <th></th>\n",
       "      <th>Close</th>\n",
       "    </tr>\n",
       "    <tr>\n",
       "      <th>Date</th>\n",
       "      <th></th>\n",
       "    </tr>\n",
       "  </thead>\n",
       "  <tbody>\n",
       "    <tr>\n",
       "      <th>2019-12-31</th>\n",
       "      <td>1847.839966</td>\n",
       "    </tr>\n",
       "    <tr>\n",
       "      <th>2020-01-02</th>\n",
       "      <td>1898.010010</td>\n",
       "    </tr>\n",
       "    <tr>\n",
       "      <th>2020-01-03</th>\n",
       "      <td>1874.969971</td>\n",
       "    </tr>\n",
       "    <tr>\n",
       "      <th>2020-01-06</th>\n",
       "      <td>1902.880005</td>\n",
       "    </tr>\n",
       "    <tr>\n",
       "      <th>2020-01-07</th>\n",
       "      <td>1906.859985</td>\n",
       "    </tr>\n",
       "  </tbody>\n",
       "</table>\n",
       "</div>"
      ],
      "text/plain": [
       "                  Close\n",
       "Date                   \n",
       "2019-12-31  1847.839966\n",
       "2020-01-02  1898.010010\n",
       "2020-01-03  1874.969971\n",
       "2020-01-06  1902.880005\n",
       "2020-01-07  1906.859985"
      ]
     },
     "execution_count": 23,
     "metadata": {},
     "output_type": "execute_result"
    }
   ],
   "source": [
    "tickers_df = prev_predit_df.copy()\n",
    "\n",
    "tickers_df.head()"
   ]
  },
  {
   "cell_type": "markdown",
   "id": "a1b4f367",
   "metadata": {},
   "source": [
    "##"
   ]
  },
  {
   "cell_type": "markdown",
   "id": "617988c9",
   "metadata": {},
   "source": [
    "## MACD calcualtion and plots"
   ]
  },
  {
   "cell_type": "code",
   "execution_count": 24,
   "id": "94d3818b",
   "metadata": {},
   "outputs": [],
   "source": [
    "# Calculate MACD data and add to dictionary\n",
    "macd_list = {}\n",
    "\n",
    "for ticker in stock_name:\n",
    "    \n",
    "    # MACD data\n",
    "    ewm_fast = tickers_df[\"Close\"].ewm(span = 12, adjust = False).mean()\n",
    "    \n",
    "    ewm_slow = tickers_df[\"Close\"].ewm(span = 26, adjust = False).mean()\n",
    "    \n",
    "    macd = pd.DataFrame(ewm_fast - ewm_slow)\n",
    "    \n",
    "    macd = macd.rename(columns = {\"Close\":\"macd\"})\n",
    "    \n",
    "    # Signal data\n",
    "    signal = pd.DataFrame(macd[\"macd\"].ewm(span = 9, adjust = False).mean()).rename(columns = {\"macd\":\"signal\"})\n",
    "    \n",
    "    # Histogram data\n",
    "    histogram = pd.DataFrame(macd[\"macd\"] - signal[\"signal\"]).rename(columns = {0:(\"hist\")})\n",
    "    \n",
    "    ticker_macd = pd.concat([macd, signal, histogram],\n",
    "                            axis = 1)\n",
    "    \n",
    "    macd_list[ticker] = ticker_macd"
   ]
  },
  {
   "cell_type": "code",
   "execution_count": 25,
   "id": "f57d3ba2",
   "metadata": {},
   "outputs": [
    {
     "data": {
      "image/png": "[encoded data removed]",
      "text/plain": [
       "<Figure size 1296x864 with 2 Axes>"
      ]
     },
     "metadata": {
      "needs_background": "light"
     },
     "output_type": "display_data"
    }
   ],
   "source": [
    "# Plot MACD data per individual stock\n",
    "for ticker in stock_name:  \n",
    "    \n",
    "    plt.rcParams[\"figure.figsize\"] = [18,12]\n",
    "    \n",
    "    ax1 = plt.subplot2grid((15,1), (0,0), rowspan = 5, colspan = 5)\n",
    "    \n",
    "    ax2 = plt.subplot2grid((15,1), (7,0), rowspan = 3, colspan = 5)\n",
    "\n",
    "    ax1.plot(tickers_df[\"Close\"], color = 'gray', linewidth = 2, label = ticker)\n",
    "    \n",
    "    ax1.set_title(f'{ticker} MACD SIGNALS')\n",
    "    \n",
    "    ax2.plot(macd_list[ticker]['macd'],\n",
    "             color = 'skyblue',\n",
    "             linewidth = 1.5, \n",
    "             label = 'MACD')\n",
    "    \n",
    "    ax2.plot(macd_list[ticker]['signal'],\n",
    "             color = 'orange',\n",
    "             linewidth = 1.5,\n",
    "             label = 'SIGNAL')\n",
    "\n",
    "    for i in range(len(macd_list[ticker])):\n",
    "        \n",
    "        if str(macd_list[ticker]['hist'][i])[0] == '-':\n",
    "            \n",
    "            ax2.bar(macd_list[ticker].index[i], \n",
    "                    macd_list[ticker]['hist'][i],\n",
    "                    color = 'red')\n",
    "        else:\n",
    "            \n",
    "            ax2.bar(macd_list[ticker].index[i], \n",
    "                    macd_list[ticker]['hist'][i], \n",
    "                    color = 'green')\n",
    "    \n",
    "    plt.legend(loc = 'lower right')\n",
    "    plt.savefig(f\"MACD.png\", bbox_inches='tight', facecolor='white')\n",
    "    #plt.show()\n"
   ]
  },
  {
   "cell_type": "markdown",
   "id": "7c3157c7",
   "metadata": {},
   "source": [
    "##"
   ]
  },
  {
   "cell_type": "markdown",
   "id": "97eca7dd",
   "metadata": {},
   "source": [
    "# Trading Strategy based on MACD"
   ]
  },
  {
   "cell_type": "code",
   "execution_count": 26,
   "id": "7d5b5c32",
   "metadata": {},
   "outputs": [],
   "source": [
    "# Create Trading Strategy function\n",
    "def implement_macd_strategy(prices, data):    \n",
    "    buy_price = []\n",
    "    sell_price = []\n",
    "    macd_signal = []\n",
    "    signal = 0\n",
    "\n",
    "    # For loop for range of dates\n",
    "    for i in range(len(data)):\n",
    "        \n",
    "        # Conditional produce signal to buy stock\n",
    "        if data['macd'][i] > data['signal'][i]:\n",
    "            if signal != 1:\n",
    "                buy_price.append(prices[i])\n",
    "                sell_price.append(np.nan)\n",
    "                signal = 1\n",
    "                macd_signal.append(signal)\n",
    "            else:\n",
    "                buy_price.append(np.nan)\n",
    "                sell_price.append(np.nan)\n",
    "                macd_signal.append(0)\n",
    "                \n",
    "        # Conditional produce signal to sell stock\n",
    "        elif data['macd'][i] < data['signal'][i]:\n",
    "            if signal != -1:\n",
    "                buy_price.append(np.nan)\n",
    "                sell_price.append(prices[i])\n",
    "                signal = -1\n",
    "                macd_signal.append(signal)\n",
    "            else:\n",
    "                buy_price.append(np.nan)\n",
    "                sell_price.append(np.nan)\n",
    "                macd_signal.append(0)\n",
    "        else:\n",
    "            buy_price.append(np.nan)\n",
    "            sell_price.append(np.nan)\n",
    "            macd_signal.append(0)\n",
    "            \n",
    "    return buy_price, sell_price, macd_signal"
   ]
  },
  {
   "cell_type": "code",
   "execution_count": 27,
   "id": "d3ef2502",
   "metadata": {},
   "outputs": [
    {
     "data": {
      "image/png": "[encoded data removed]",
      "text/plain": [
       "<Figure size 1296x864 with 2 Axes>"
      ]
     },
     "metadata": {
      "needs_background": "light"
     },
     "output_type": "display_data"
    }
   ],
   "source": [
    "# Run trade strategy and plot buy and sell signals\n",
    "for ticker in stock_name:  \n",
    "    \n",
    "    buy_price, sell_price, macd_signal = implement_macd_strategy(tickers_df[\"Close\"], macd_list[ticker])\n",
    "    \n",
    "    plt.rcParams[\"figure.figsize\"] = [18,12]\n",
    "\n",
    "    ax1 = plt.subplot2grid((15,1), (0,0), rowspan = 5, colspan = 1)\n",
    "    \n",
    "    ax2 = plt.subplot2grid((15,1), (7,0), rowspan = 3, colspan = 1)\n",
    "\n",
    "    ax1.plot(tickers_df[\"Close\"], \n",
    "             color = 'gray',\n",
    "             linewidth = 2,\n",
    "             label = ticker)\n",
    "    \n",
    "    ax1.plot(tickers_df[\"Close\"].index,\n",
    "             buy_price, \n",
    "             marker = '^',\n",
    "             color = 'green', \n",
    "             markersize = 10, \n",
    "             label = 'BUY SIGNAL',\n",
    "             linewidth = 0)\n",
    "    \n",
    "    ax1.plot(tickers_df[\"Close\"].index,\n",
    "             sell_price, \n",
    "             marker = 'v', \n",
    "             color = 'r',\n",
    "             markersize = 10,\n",
    "             label = 'SELL SIGNAL',\n",
    "             linewidth = 0)\n",
    "    \n",
    "    ax1.legend()\n",
    "    \n",
    "    ax1.set_title(f'{ticker} MACD SIGNALS')\n",
    "    \n",
    "    ax2.plot(macd_list[ticker]['macd'],\n",
    "             color = 'skyblue',\n",
    "             linewidth = 1.5, \n",
    "             label = 'MACD')\n",
    "    \n",
    "    ax2.plot(macd_list[ticker]['signal'], \n",
    "             color = 'orange', \n",
    "             linewidth = 1.5,\n",
    "             label = 'SIGNAL')\n",
    "\n",
    "    for i in range(len(macd_list[ticker])):\n",
    "        \n",
    "        if str(macd_list[ticker]['hist'][i])[0] == '-':\n",
    "            \n",
    "            ax2.bar(macd_list[ticker].index[i],\n",
    "                    macd_list[ticker]['hist'][i], \n",
    "                    color = 'r')\n",
    "        else:\n",
    "            \n",
    "            ax2.bar(macd_list[ticker].index[i],\n",
    "                    macd_list[ticker]['hist'][i], \n",
    "                    color = 'g')\n",
    "        \n",
    "    plt.legend(loc = 'lower right')\n",
    "    plt.savefig(f\"TradeSignal.png\", bbox_inches='tight', facecolor='white')    \n",
    "    plt.show()"
   ]
  },
  {
   "cell_type": "code",
   "execution_count": 28,
   "id": "ea73a0eb",
   "metadata": {},
   "outputs": [],
   "source": [
    "# Run strategy to create position\n",
    "stock_strategy = {}\n",
    "\n",
    "for ticker in stock_name:     \n",
    "    \n",
    "    buy_price, sell_price, macd_signal = implement_macd_strategy(tickers_df[\"Close\"], macd_list[ticker])\n",
    "\n",
    "    position = []\n",
    "    \n",
    "    for i in range(len(macd_signal)):        \n",
    "        if macd_signal[i] > 1:\n",
    "            position.append(0)\n",
    "        else:\n",
    "            position.append(1)\n",
    "            \n",
    "    for i in range(len(tickers_df['Close'])):\n",
    "        if macd_signal[i] == 1:\n",
    "            position[i] = 1\n",
    "        elif macd_signal[i] == -1:\n",
    "            position[i] = 0\n",
    "        else:\n",
    "            position[i] = position[i-1]\n",
    "            \n",
    "    macd = macd_list[ticker]['macd']\n",
    "    \n",
    "    signal = macd_list[ticker]['signal']\n",
    "    \n",
    "    close_price = tickers_df[\"Close\"]\n",
    "    \n",
    "    macd_signal = pd.DataFrame(macd_signal).rename(columns = {0:'macd_signal'}).set_index(tickers_df[\"Close\"].index)\n",
    "    \n",
    "    position = pd.DataFrame(position).rename(columns = {0:'macd_position'}).set_index(tickers_df[\"Close\"].index)\n",
    "\n",
    "    frames = [close_price, macd, signal, macd_signal, position]\n",
    "    \n",
    "    stock_strategy = pd.concat(frames, \n",
    "                               join = 'inner',\n",
    "                               axis = 1)"
   ]
  },
  {
   "cell_type": "code",
   "execution_count": 29,
   "id": "c521a90b",
   "metadata": {},
   "outputs": [
    {
     "data": {
      "text/html": [
       "<div>\n",
       "<style scoped>\n",
       "    .dataframe tbody tr th:only-of-type {\n",
       "        vertical-align: middle;\n",
       "    }\n",
       "\n",
       "    .dataframe tbody tr th {\n",
       "        vertical-align: top;\n",
       "    }\n",
       "\n",
       "    .dataframe thead th {\n",
       "        text-align: right;\n",
       "    }\n",
       "</style>\n",
       "<table border=\"1\" class=\"dataframe\">\n",
       "  <thead>\n",
       "    <tr style=\"text-align: right;\">\n",
       "      <th></th>\n",
       "      <th>Close</th>\n",
       "      <th>macd</th>\n",
       "      <th>signal</th>\n",
       "      <th>macd_signal</th>\n",
       "      <th>macd_position</th>\n",
       "    </tr>\n",
       "    <tr>\n",
       "      <th>Date</th>\n",
       "      <th></th>\n",
       "      <th></th>\n",
       "      <th></th>\n",
       "      <th></th>\n",
       "      <th></th>\n",
       "    </tr>\n",
       "  </thead>\n",
       "  <tbody>\n",
       "    <tr>\n",
       "      <th>2019-12-31</th>\n",
       "      <td>1847.839966</td>\n",
       "      <td>0.000000</td>\n",
       "      <td>0.000000</td>\n",
       "      <td>0</td>\n",
       "      <td>1</td>\n",
       "    </tr>\n",
       "    <tr>\n",
       "      <th>2020-01-02</th>\n",
       "      <td>1898.010010</td>\n",
       "      <td>4.002169</td>\n",
       "      <td>0.800434</td>\n",
       "      <td>1</td>\n",
       "      <td>1</td>\n",
       "    </tr>\n",
       "    <tr>\n",
       "      <th>2020-01-03</th>\n",
       "      <td>1874.969971</td>\n",
       "      <td>5.254210</td>\n",
       "      <td>1.691189</td>\n",
       "      <td>0</td>\n",
       "      <td>1</td>\n",
       "    </tr>\n",
       "    <tr>\n",
       "      <th>2020-01-06</th>\n",
       "      <td>1902.880005</td>\n",
       "      <td>8.401719</td>\n",
       "      <td>3.033295</td>\n",
       "      <td>0</td>\n",
       "      <td>1</td>\n",
       "    </tr>\n",
       "    <tr>\n",
       "      <th>2020-01-07</th>\n",
       "      <td>1906.859985</td>\n",
       "      <td>11.089461</td>\n",
       "      <td>4.644528</td>\n",
       "      <td>0</td>\n",
       "      <td>1</td>\n",
       "    </tr>\n",
       "    <tr>\n",
       "      <th>...</th>\n",
       "      <td>...</td>\n",
       "      <td>...</td>\n",
       "      <td>...</td>\n",
       "      <td>...</td>\n",
       "      <td>...</td>\n",
       "    </tr>\n",
       "    <tr>\n",
       "      <th>2021-09-04</th>\n",
       "      <td>3480.534003</td>\n",
       "      <td>14.853148</td>\n",
       "      <td>-16.527081</td>\n",
       "      <td>0</td>\n",
       "      <td>1</td>\n",
       "    </tr>\n",
       "    <tr>\n",
       "      <th>2021-09-05</th>\n",
       "      <td>3485.564153</td>\n",
       "      <td>19.991999</td>\n",
       "      <td>-9.223265</td>\n",
       "      <td>0</td>\n",
       "      <td>1</td>\n",
       "    </tr>\n",
       "    <tr>\n",
       "      <th>2021-09-06</th>\n",
       "      <td>3488.669323</td>\n",
       "      <td>24.038040</td>\n",
       "      <td>-2.571004</td>\n",
       "      <td>0</td>\n",
       "      <td>1</td>\n",
       "    </tr>\n",
       "    <tr>\n",
       "      <th>2021-09-07</th>\n",
       "      <td>3492.998618</td>\n",
       "      <td>27.279435</td>\n",
       "      <td>3.399084</td>\n",
       "      <td>0</td>\n",
       "      <td>1</td>\n",
       "    </tr>\n",
       "    <tr>\n",
       "      <th>2021-09-08</th>\n",
       "      <td>3496.539171</td>\n",
       "      <td>29.790550</td>\n",
       "      <td>8.677377</td>\n",
       "      <td>0</td>\n",
       "      <td>1</td>\n",
       "    </tr>\n",
       "  </tbody>\n",
       "</table>\n",
       "<p>429 rows × 5 columns</p>\n",
       "</div>"
      ],
      "text/plain": [
       "                  Close       macd     signal  macd_signal  macd_position\n",
       "Date                                                                     \n",
       "2019-12-31  1847.839966   0.000000   0.000000            0              1\n",
       "2020-01-02  1898.010010   4.002169   0.800434            1              1\n",
       "2020-01-03  1874.969971   5.254210   1.691189            0              1\n",
       "2020-01-06  1902.880005   8.401719   3.033295            0              1\n",
       "2020-01-07  1906.859985  11.089461   4.644528            0              1\n",
       "...                 ...        ...        ...          ...            ...\n",
       "2021-09-04  3480.534003  14.853148 -16.527081            0              1\n",
       "2021-09-05  3485.564153  19.991999  -9.223265            0              1\n",
       "2021-09-06  3488.669323  24.038040  -2.571004            0              1\n",
       "2021-09-07  3492.998618  27.279435   3.399084            0              1\n",
       "2021-09-08  3496.539171  29.790550   8.677377            0              1\n",
       "\n",
       "[429 rows x 5 columns]"
      ]
     },
     "execution_count": 29,
     "metadata": {},
     "output_type": "execute_result"
    }
   ],
   "source": [
    "# Check strategy df\n",
    "stock_strategy"
   ]
  },
  {
   "cell_type": "markdown",
   "id": "68c56317",
   "metadata": {},
   "source": [
    "##"
   ]
  },
  {
   "cell_type": "markdown",
   "id": "763af626",
   "metadata": {},
   "source": [
    "# Backtesting"
   ]
  },
  {
   "cell_type": "code",
   "execution_count": 30,
   "id": "8066be19",
   "metadata": {},
   "outputs": [],
   "source": [
    "# Create dictionary and populate according to macd_signal\n",
    "stock_signals = {}\n",
    "\n",
    "for ticker in tickers:\n",
    "    entries = []\n",
    "    exits = []\n",
    "    \n",
    "    for sig in stock_strategy[\"macd_signal\"]:\n",
    "        \n",
    "        if sig == -1:\n",
    "            entries.append(\"False\")\n",
    "            exits.append(\"True\")\n",
    "        elif sig == 1:\n",
    "            entries.append(\"True\")\n",
    "            exits.append(\"False\")\n",
    "        else:\n",
    "            entries.append(\"False\")\n",
    "            exits.append(\"False\")\n",
    "            \n",
    "    entries = pd.Series(entries,\n",
    "                        index = tickers_df[\"Close\"].index)\n",
    "    \n",
    "    exits = pd.Series(exits, index = tickers_df[\"Close\"].index)\n",
    "    \n",
    "    # Change type to bool\n",
    "    entries = entries == \"True\"\n",
    "    exits = exits == \"True\"\n",
    "    \n",
    "    # Create dataframe\n",
    "    entries = pd.DataFrame(entries).rename(columns = {0:'entries'}).set_index(tickers_df[\"Close\"].index)\n",
    "    \n",
    "    exits = pd.DataFrame(exits).rename(columns = {0:'exits'}).set_index(tickers_df[\"Close\"].index)\n",
    "    \n",
    "    close_price = tickers_df[\"Close\"]\n",
    "    \n",
    "    frames = [close_price,\n",
    "              entries, \n",
    "              exits]\n",
    "    \n",
    "    signals = pd.concat(frames, join = 'inner', axis = 1)\n",
    "\n",
    "    stock_signals[ticker] = signals"
   ]
  },
  {
   "cell_type": "code",
   "execution_count": 31,
   "id": "5994c69b",
   "metadata": {},
   "outputs": [
    {
     "name": "stdout",
     "output_type": "stream",
     "text": [
      "The total profit of just holding the stock is $88222.47\n"
     ]
    }
   ],
   "source": [
    "# Initial investment\n",
    "init_cash = 100000\n",
    "\n",
    "# Total profit earned from holding stock. Timeframe 3 months\n",
    "for ticker in stock_name:\n",
    "    \n",
    "    price = vbt.YFData.download(ticker, start='2020-01-01').get('Close')\n",
    "    \n",
    "    portfolio = vbt.Portfolio.from_holding(price,\n",
    "                                           init_cash = init_cash)\n",
    "    \n",
    "portfolio.total_profit() \n",
    "\n",
    "print(f\"The total profit of just holding the stock is ${portfolio.total_profit():.2f}\")"
   ]
  },
  {
   "cell_type": "code",
   "execution_count": 32,
   "id": "7bca38c2",
   "metadata": {},
   "outputs": [
    {
     "name": "stdout",
     "output_type": "stream",
     "text": [
      "The total profit of exercising MACD signals are $246422.06\n"
     ]
    }
   ],
   "source": [
    "total_profit = []\n",
    "\n",
    "for ticker in tickers:\n",
    "    # Build portfolio using macd signals\n",
    "    portfolio = vbt.Portfolio.from_signals(stock_signals[ticker][\"Close\"],\n",
    "                                           stock_signals[ticker][\"entries\"],\n",
    "                                           stock_signals[ticker][\"exits\"],\n",
    "                                           init_cash = init_cash)\n",
    "\n",
    "    # Total profit\n",
    "    total_profit.append(portfolio.total_profit())\n",
    "    \n",
    "print(f\"The total profit of exercising MACD signals are ${sum(total_profit):.2f}\")"
   ]
  },
  {
   "cell_type": "code",
   "execution_count": null,
   "id": "8350ff45-c1f3-4321-99db-f5ab932bad53",
   "metadata": {},
   "outputs": [],
   "source": []
  }
 ],
 "metadata": {
  "kernelspec": {
   "display_name": "Python 3",
   "language": "python",
   "name": "python3"
  },
  "language_info": {
   "codemirror_mode": {
    "name": "ipython",
    "version": 3
   },
   "file_extension": ".py",
   "mimetype": "text/x-python",
   "name": "python",
   "nbconvert_exporter": "python",
   "pygments_lexer": "ipython3",
   "version": "3.7.10"
  }
 },
 "nbformat": 4,
 "nbformat_minor": 5
}
