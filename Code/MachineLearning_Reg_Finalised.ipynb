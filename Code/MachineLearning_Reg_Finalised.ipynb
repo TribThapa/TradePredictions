{
 "cells": [
  {
   "cell_type": "markdown",
   "id": "a82fa35b-3bc6-4a1e-bf26-bbd8c45e2b58",
   "metadata": {},
   "source": [
    "# Train and Test different machine learning algorithms"
   ]
  },
  {
   "cell_type": "code",
   "execution_count": 1,
   "id": "304f5ab1-e10f-498e-a747-3c3e2758e901",
   "metadata": {},
   "outputs": [],
   "source": [
    "# For parameters\n",
    "import pandas as pd\n",
    "import numpy as np\n",
    "from sklearn.model_selection import train_test_split\n",
    "from imblearn.over_sampling import RandomOverSampler\n",
    "\n",
    "# Models \n",
    "from sklearn.ensemble import ExtraTreesRegressor\n",
    "from sklearn.linear_model import Lasso\n",
    "from sklearn.linear_model import LinearRegression\n",
    "from sklearn.ensemble import RandomForestRegressor\n",
    "from sklearn.linear_model import Ridge\n",
    "from sklearn.linear_model import SGDRegressor\n",
    "\n",
    "# Metrics\n",
    "from sklearn.metrics import r2_score\n",
    "from sklearn.metrics import mean_squared_error\n",
    "\n",
    "from collections import Counter\n",
    "from sklearn.metrics import confusion_matrix, accuracy_score, classification_report\n",
    "\n",
    "# Import machine learning model class\n",
    "from sklearn.linear_model import Ridge\n",
    "from sklearn.metrics import r2_score\n",
    "from sklearn.metrics import mean_squared_error"
   ]
  },
  {
   "cell_type": "markdown",
   "id": "afea9c6e-038c-41ae-a232-b06652cf9806",
   "metadata": {},
   "source": [
    "###"
   ]
  },
  {
   "cell_type": "markdown",
   "id": "d997dc2f-495f-4397-b0a2-5571949b64e1",
   "metadata": {},
   "source": [
    "## Prepare data for machine learning"
   ]
  },
  {
   "cell_type": "code",
   "execution_count": 2,
   "id": "72b6a3c4-a40a-4eb4-8e85-01c9db2a31c7",
   "metadata": {},
   "outputs": [
    {
     "data": {
      "text/html": [
       "<div>\n",
       "<style scoped>\n",
       "    .dataframe tbody tr th:only-of-type {\n",
       "        vertical-align: middle;\n",
       "    }\n",
       "\n",
       "    .dataframe tbody tr th {\n",
       "        vertical-align: top;\n",
       "    }\n",
       "\n",
       "    .dataframe thead th {\n",
       "        text-align: right;\n",
       "    }\n",
       "</style>\n",
       "<table border=\"1\" class=\"dataframe\">\n",
       "  <thead>\n",
       "    <tr style=\"text-align: right;\">\n",
       "      <th></th>\n",
       "      <th>level_0</th>\n",
       "      <th>1_Day_returns</th>\n",
       "      <th>5_Day_returns</th>\n",
       "      <th>10_Day_returns</th>\n",
       "      <th>1_Day_binary</th>\n",
       "      <th>5_Day_binary</th>\n",
       "      <th>10_Day_binary</th>\n",
       "    </tr>\n",
       "    <tr>\n",
       "      <th>Date</th>\n",
       "      <th></th>\n",
       "      <th></th>\n",
       "      <th></th>\n",
       "      <th></th>\n",
       "      <th></th>\n",
       "      <th></th>\n",
       "      <th></th>\n",
       "    </tr>\n",
       "  </thead>\n",
       "  <tbody>\n",
       "    <tr>\n",
       "      <th>2016-01-19</th>\n",
       "      <td>AMZN</td>\n",
       "      <td>-1.195972</td>\n",
       "      <td>-0.571746</td>\n",
       "      <td>-1.131033</td>\n",
       "      <td>0</td>\n",
       "      <td>0</td>\n",
       "      <td>0</td>\n",
       "    </tr>\n",
       "    <tr>\n",
       "      <th>2016-01-20</th>\n",
       "      <td>AMZN</td>\n",
       "      <td>-1.625508</td>\n",
       "      <td>-20.423698</td>\n",
       "      <td>-0.060992</td>\n",
       "      <td>0</td>\n",
       "      <td>0</td>\n",
       "      <td>0</td>\n",
       "    </tr>\n",
       "    <tr>\n",
       "      <th>2016-01-21</th>\n",
       "      <td>AMZN</td>\n",
       "      <td>-2.204963</td>\n",
       "      <td>-1.097343</td>\n",
       "      <td>-4.160241</td>\n",
       "      <td>0</td>\n",
       "      <td>0</td>\n",
       "      <td>0</td>\n",
       "    </tr>\n",
       "    <tr>\n",
       "      <th>2016-01-22</th>\n",
       "      <td>AMZN</td>\n",
       "      <td>5.535157</td>\n",
       "      <td>0.931386</td>\n",
       "      <td>-1.951061</td>\n",
       "      <td>1</td>\n",
       "      <td>1</td>\n",
       "      <td>0</td>\n",
       "    </tr>\n",
       "    <tr>\n",
       "      <th>2016-01-25</th>\n",
       "      <td>AMZN</td>\n",
       "      <td>-0.993228</td>\n",
       "      <td>-1.006537</td>\n",
       "      <td>-1.171831</td>\n",
       "      <td>0</td>\n",
       "      <td>0</td>\n",
       "      <td>0</td>\n",
       "    </tr>\n",
       "  </tbody>\n",
       "</table>\n",
       "</div>"
      ],
      "text/plain": [
       "           level_0  1_Day_returns  5_Day_returns  10_Day_returns  \\\n",
       "Date                                                               \n",
       "2016-01-19    AMZN      -1.195972      -0.571746       -1.131033   \n",
       "2016-01-20    AMZN      -1.625508     -20.423698       -0.060992   \n",
       "2016-01-21    AMZN      -2.204963      -1.097343       -4.160241   \n",
       "2016-01-22    AMZN       5.535157       0.931386       -1.951061   \n",
       "2016-01-25    AMZN      -0.993228      -1.006537       -1.171831   \n",
       "\n",
       "            1_Day_binary  5_Day_binary  10_Day_binary  \n",
       "Date                                                   \n",
       "2016-01-19             0             0              0  \n",
       "2016-01-20             0             0              0  \n",
       "2016-01-21             0             0              0  \n",
       "2016-01-22             1             1              0  \n",
       "2016-01-25             0             0              0  "
      ]
     },
     "execution_count": 2,
     "metadata": {},
     "output_type": "execute_result"
    }
   ],
   "source": [
    "# Load the dataset returns.csv and set the index to level_0 and time\n",
    "returns = pd.read_csv(\"../Data/Returns_ForML_Classification.csv\",\n",
    "                      index_col=\"Date\", \n",
    "                      infer_datetime_format=True,\n",
    "                      parse_dates=True)\n",
    "\n",
    "returns.head()"
   ]
  },
  {
   "cell_type": "code",
   "execution_count": 3,
   "id": "422298ce-bb35-4581-b72c-ef5d67265177",
   "metadata": {},
   "outputs": [],
   "source": [
    "# Create X and y variables\n",
    "X = returns.drop(columns=[\"level_0\",\"1_Day_returns\", \"5_Day_returns\",\"10_Day_returns\", \"1_Day_binary\"])\n",
    "\n",
    "# Create the target variable\n",
    "y = returns[\"1_Day_binary\"]                  "
   ]
  },
  {
   "cell_type": "code",
   "execution_count": 4,
   "id": "30547eeb-e57d-4701-89eb-5ea76549ccce",
   "metadata": {},
   "outputs": [],
   "source": [
    "# Split dataset without shuffling\n",
    "X_train, X_test, y_train, y_test = train_test_split(X,\n",
    "                                                    y, \n",
    "                                                    test_size=0.3,\n",
    "                                                    shuffle=False)"
   ]
  },
  {
   "cell_type": "code",
   "execution_count": 5,
   "id": "b40ceb83-5b4d-4f3f-bef5-c234291a88c8",
   "metadata": {},
   "outputs": [
    {
     "data": {
      "text/plain": [
       "Counter({0: 713, 1: 274})"
      ]
     },
     "execution_count": 5,
     "metadata": {},
     "output_type": "execute_result"
    }
   ],
   "source": [
    "# Use Counter to count the number 1s and 0 in y_train\n",
    "Counter(y_train)"
   ]
  },
  {
   "cell_type": "code",
   "execution_count": 6,
   "id": "8b619711-0479-43cb-83bb-2111fd69850e",
   "metadata": {},
   "outputs": [],
   "source": [
    "# Use RandomOverSampler to resample the datase using random_state=1\n",
    " ros = RandomOverSampler(random_state=1)\n",
    "\n",
    "X_train_resampled, y_train_resampled = ros.fit_resample(X_train, \n",
    "                                            y_train)"
   ]
  },
  {
   "cell_type": "code",
   "execution_count": 7,
   "id": "3326ea2a-5039-4719-90c5-f642402286bc",
   "metadata": {},
   "outputs": [
    {
     "data": {
      "text/plain": [
       "Counter({0: 713, 1: 713})"
      ]
     },
     "execution_count": 7,
     "metadata": {},
     "output_type": "execute_result"
    }
   ],
   "source": [
    "# Use Counter again to verify imbalance removed\n",
    "Counter(y_train_resampled)"
   ]
  },
  {
   "cell_type": "markdown",
   "id": "aff066b0-eaf2-4c74-b1b1-de47cf5e722f",
   "metadata": {},
   "source": [
    "###"
   ]
  },
  {
   "cell_type": "markdown",
   "id": "eecd92c9-44e7-4fc0-b705-2752e5ec2cbf",
   "metadata": {},
   "source": [
    "## Run machine learning algorithms - Regressors"
   ]
  },
  {
   "cell_type": "markdown",
   "id": "05997481-74f7-4de9-9b50-41c0eac17262",
   "metadata": {},
   "source": [
    "### 1. Linear Regression\n",
    "##### Linear Regression is predicting the value of a dependent variable Y on some independent variable X provided there is a linear relationship exits. This relationship can be represented by a straight line. For more than one independent variables, the algorithm is called multiple linear Regression."
   ]
  },
  {
   "cell_type": "code",
   "execution_count": 8,
   "id": "db888b92-a184-4653-871e-f78936803edc",
   "metadata": {},
   "outputs": [
    {
     "name": "stdout",
     "output_type": "stream",
     "text": [
      "The coefficient of determination R2 is -0.34980182803531146\n",
      "The Mean Squared Error is 0.24533896155103088\n",
      "The Root Mean Squared Error is 0.4953170313557075\n"
     ]
    }
   ],
   "source": [
    "# Create a LogisticRegression model and train it on the X_resampled data we created before\n",
    "lr = LinearRegression()\n",
    "\n",
    "# Use the model you trained to predict using X_test\n",
    "lr_model = lr.fit(X_train_resampled, y_train_resampled)\n",
    "\n",
    "# Make predictions using the testing data\n",
    "y_pred_lr = lr_model.predict(X_test)\n",
    "\n",
    "# ------------------------------ Model Evaluation ------------------------------\n",
    "\n",
    "# Get the coefficient of determination R2\n",
    "r2_lr = r2_score(y_test, y_pred_lr)\n",
    "print(f\"The coefficient of determination R2 is {r2_lr}\")\n",
    "\n",
    "# Get the Mean Squared Error\n",
    "mse_lr = mean_squared_error(y_test, y_pred_lr)\n",
    "print(f\"The Mean Squared Error is {mse_lr}\")\n",
    "\n",
    "# Get the Root Mean Squared Error\n",
    "rmse_lr = np.sqrt(mse_lr) \n",
    "print(f\"The Root Mean Squared Error is {rmse_lr}\")"
   ]
  },
  {
   "cell_type": "markdown",
   "id": "bcbf5769-4158-47c2-aabc-390630e029e0",
   "metadata": {},
   "source": [
    "### 2. Random Forest "
   ]
  },
  {
   "cell_type": "markdown",
   "id": "e8f9743e-0883-4629-9b4f-7036cd50a0db",
   "metadata": {},
   "source": [
    "##### Decision tree Regressor builds a tree incrementally by splitting the dataset into subsets which results in a tree with decision nodes and leaf nodes. A decision node has two or more branches each representing values for the attribute tested. Leaf node represents the decision on the numerical target. The topmost node is called the root node which corresponds to the best predictor."
   ]
  },
  {
   "cell_type": "code",
   "execution_count": 9,
   "id": "b05576e1-cc61-4cda-be44-61243ad4fae7",
   "metadata": {},
   "outputs": [
    {
     "name": "stdout",
     "output_type": "stream",
     "text": [
      "The coefficient of determination R2 is -0.35842932870105915\n",
      "The Mean Squared Error is 0.24690708956075233\n",
      "The Root Mean Squared Error is 0.4968974638300666\n"
     ]
    }
   ],
   "source": [
    "# Instatiate machine learning model\n",
    "rf = RandomForestRegressor()\n",
    "\n",
    "# Fit the machine learning model with the training data\n",
    "rf_model = rf.fit(X_train_resampled, y_train_resampled)\n",
    "\n",
    "# Make predictions using the testing data\n",
    "y_pred_rf = rf_model.predict(X_test)\n",
    "\n",
    "# ------------------------------ Model Evaluation ------------------------------\n",
    "\n",
    "# Get the coefficient of determination R2\n",
    "r2_rf = r2_score(y_test, y_pred_rf)\n",
    "print(f\"The coefficient of determination R2 is {r2_rf}\")\n",
    "\n",
    "# Get the Mean Squared Error\n",
    "mse_rf = mean_squared_error(y_test, y_pred_rf)\n",
    "print(f\"The Mean Squared Error is {mse_rf}\")\n",
    "\n",
    "# Get the Root Mean Squared Error\n",
    "rmse_rf = np.sqrt(mse_rf)\n",
    "print(f\"The Root Mean Squared Error is {rmse_rf}\")"
   ]
  },
  {
   "cell_type": "markdown",
   "id": "79e1cad2-de3d-468e-8701-154551e5014d",
   "metadata": {},
   "source": [
    "### 3. Extra Trees"
   ]
  },
  {
   "cell_type": "markdown",
   "id": "d2dcd97d-1a76-4126-8164-c38f2f45ce24",
   "metadata": {},
   "source": [
    "##### Extra Tree regressor (stands for extremely randomized Tees) is built differently from the classic decision trees because of its strategy to split nodes. It performs splits for each of the max features randomly and it also selects features randomly and the best split among those is chosen. When max-feature is set to 1, it built a totally decision tree every time. "
   ]
  },
  {
   "cell_type": "code",
   "execution_count": 10,
   "id": "22b5c766-92ad-488f-a903-4d9f30a1944f",
   "metadata": {},
   "outputs": [
    {
     "name": "stdout",
     "output_type": "stream",
     "text": [
      "The coefficient of determination R2 is -0.3614842803484184\n",
      "The Mean Squared Error is 0.24746235526656532\n",
      "The Root Mean Squared Error is 0.4974558827339017\n"
     ]
    }
   ],
   "source": [
    "# Instatiate machine learning model\n",
    "etr = ExtraTreesRegressor()\n",
    "\n",
    "# Fit the machine learning model with the training data\n",
    "etr.fit(X_train_resampled, y_train_resampled)\n",
    "\n",
    "# Make predictions using the testing data\n",
    "y_pred_etr = etr.predict(X_test)\n",
    "\n",
    "# ------------------------------ Model Evaluation ------------------------------\n",
    "\n",
    "# Get the coefficient of determination R2\n",
    "r2_etr = r2_score(y_test, y_pred_etr)\n",
    "print(f\"The coefficient of determination R2 is {r2_etr}\")\n",
    "\n",
    "# Get the Mean Squared Error\n",
    "mse_etr = mean_squared_error(y_test, y_pred_etr)\n",
    "print(f\"The Mean Squared Error is {mse_etr}\")\n",
    "\n",
    "# Get the Root Mean Squared Error\n",
    "rmse_etr = np.sqrt(mse_etr)\n",
    "print(f\"The Root Mean Squared Error is {rmse_etr}\")"
   ]
  },
  {
   "cell_type": "markdown",
   "id": "ecac46a0-ec8b-40da-97c7-0ee63690878d",
   "metadata": {},
   "source": [
    "### 4. Lasso Regression"
   ]
  },
  {
   "cell_type": "markdown",
   "id": "1f78bfce-c981-4a4e-9ae0-984bd9028e81",
   "metadata": {},
   "source": [
    "##### Least Absolute Shrinkage and Selection Operator (LASSO) is a modification of the Least Square Method which performs very well when the count of features is less as compared to count of observations. It produces solutions by estimating sparse coefficients. It uses L1 norm which is equal to absolute value of the magnitude of coefficients. It performs features selection and shrinkage by reducing coefficients of others to zero"
   ]
  },
  {
   "cell_type": "code",
   "execution_count": 11,
   "id": "aeec0acc-dbdc-4739-89fa-063bd2b5303d",
   "metadata": {},
   "outputs": [
    {
     "name": "stdout",
     "output_type": "stream",
     "text": [
      "The coefficient of determination R2 is -0.3754458520386199\n",
      "The Mean Squared Error is 0.25\n",
      "The Root Mean Squared Error is 0.5\n"
     ]
    }
   ],
   "source": [
    "# Instatiate machine learning model\n",
    "lasso = Lasso()\n",
    "\n",
    "# Fit the machine learning model with the training data\n",
    "lasso_model = lasso.fit(X_train_resampled, y_train_resampled)\n",
    "\n",
    "# Make predictions using the testing data\n",
    "y_pred_lasso = lasso_model.predict(X_test)\n",
    "\n",
    "# ------------------------------ Model Evaluation ------------------------------\n",
    "\n",
    "# Get the coefficient of determination R2\n",
    "r2_lasso = r2_score(y_test, y_pred_lasso)\n",
    "print(f\"The coefficient of determination R2 is {r2_lasso}\")\n",
    "\n",
    "# Get the Mean Squared Error\n",
    "mse_lasso = mean_squared_error(y_test, y_pred_lasso)\n",
    "print(f\"The Mean Squared Error is {mse_lasso}\")\n",
    "\n",
    "# Get the Root Mean Squared Error\n",
    "rmse_lasso = np.sqrt(mse_lasso)\n",
    "print(f\"The Root Mean Squared Error is {rmse_lasso}\")"
   ]
  },
  {
   "cell_type": "markdown",
   "id": "2f3cdd9f-18f8-4667-bf1e-4a18d82b4ad0",
   "metadata": {},
   "source": [
    "### 5. Ridge Regression"
   ]
  },
  {
   "cell_type": "markdown",
   "id": "122cb669-f55b-452d-a6e2-cbedd24489c8",
   "metadata": {},
   "source": [
    "##### Ridge Regression is a form of regularized linear regression which performs very well when the count of features is less as compared to the count of observations. It belongs to the class of regression tools which use L2 regularization which adds up L2 penalty which is equals to square of magnitude of coefficients. It can’t zero out coefficients thus, it either includes all coefficient or none of them."
   ]
  },
  {
   "cell_type": "code",
   "execution_count": 12,
   "id": "59acb850-215a-4cb8-a44a-3f065bc4bbec",
   "metadata": {},
   "outputs": [
    {
     "name": "stdout",
     "output_type": "stream",
     "text": [
      "The coefficient of determination R2 is -0.34974207860155704\n",
      "The Mean Squared Error is 0.24532810153904533\n",
      "The Root Mean Squared Error is 0.4953060685465557\n"
     ]
    }
   ],
   "source": [
    "# Instatiate machine learning model\n",
    "ridge = Ridge()\n",
    "\n",
    "# Fit the machine learning model with the training data\n",
    "ridge_model = ridge.fit(X_train_resampled, y_train_resampled)\n",
    "\n",
    "# Make predictions using the testing data\n",
    "y_pred_ridge = ridge_model.predict(X_test)\n",
    "\n",
    "# ------------------------------ Model Evaluation ------------------------------\n",
    "\n",
    "# Get the coefficient of determination R2\n",
    "r2_ridge = r2_score(y_test, y_pred_ridge)\n",
    "print(f\"The coefficient of determination R2 is {r2_ridge}\")\n",
    "\n",
    "# Get the Mean Squared Error\n",
    "mse_ridge = mean_squared_error(y_test, y_pred_ridge)\n",
    "print(f\"The Mean Squared Error is {mse_ridge}\")\n",
    "\n",
    "# Get the Root Mean Squared Error\n",
    "rmse_ridge = np.sqrt(mse_ridge)\n",
    "print(f\"The Root Mean Squared Error is {rmse_ridge}\")"
   ]
  },
  {
   "cell_type": "markdown",
   "id": "f713b1ce-73a6-4c7f-b46f-dd09adcc0f4a",
   "metadata": {},
   "source": [
    "### 6. Stochastic Gradient Design"
   ]
  },
  {
   "cell_type": "code",
   "execution_count": 13,
   "id": "eb07f00a-af8c-409d-95bb-70d67f29b64d",
   "metadata": {},
   "outputs": [
    {
     "name": "stdout",
     "output_type": "stream",
     "text": [
      "The coefficient of determination R2 is -0.34372419583174363\n",
      "The Mean Squared Error is 0.244234295708577\n",
      "The Root Mean Squared Error is 0.49420066340361885\n"
     ]
    }
   ],
   "source": [
    "# Instatiate machine learning model\n",
    "sgd = SGDRegressor()\n",
    "\n",
    "# Fit the machine learning model with the training data\n",
    "sgd_model = sgd.fit(X_train_resampled, y_train_resampled)\n",
    "\n",
    "# Make predictions using the testing data\n",
    "y_pred_sgd = sgd_model.predict(X_test)\n",
    "\n",
    "# ------------------------------ Model Evaluation ------------------------------\n",
    "\n",
    "# Get the coefficient of determination R2\n",
    "r2_sgd = r2_score(y_test,y_pred_sgd)\n",
    "print(f\"The coefficient of determination R2 is {r2_sgd}\")\n",
    "\n",
    "# Get the Mean Squared Error\n",
    "mse_sgd = mean_squared_error(y_test, y_pred_sgd)\n",
    "print(f\"The Mean Squared Error is {mse_sgd}\")\n",
    "\n",
    "# Get the Root Mean Squared Error\n",
    "rmse_sgd = np.sqrt(mse_sgd)\n",
    "print(f\"The Root Mean Squared Error is {rmse_sgd}\")"
   ]
  },
  {
   "cell_type": "markdown",
   "id": "6cc7f9ae-ba17-4816-a0c4-f4e8a0b17a91",
   "metadata": {},
   "source": [
    "###"
   ]
  },
  {
   "cell_type": "markdown",
   "id": "db54da3a-9fa7-4fdc-a18b-c7af34b51d60",
   "metadata": {},
   "source": [
    "## Summary of Model Performance"
   ]
  },
  {
   "cell_type": "code",
   "execution_count": 15,
   "id": "d2e47fd3-cbbb-4b50-b9c6-7ef520abf88f",
   "metadata": {},
   "outputs": [
    {
     "data": {
      "text/html": [
       "<div>\n",
       "<style scoped>\n",
       "    .dataframe tbody tr th:only-of-type {\n",
       "        vertical-align: middle;\n",
       "    }\n",
       "\n",
       "    .dataframe tbody tr th {\n",
       "        vertical-align: top;\n",
       "    }\n",
       "\n",
       "    .dataframe thead th {\n",
       "        text-align: right;\n",
       "    }\n",
       "</style>\n",
       "<table border=\"1\" class=\"dataframe\">\n",
       "  <thead>\n",
       "    <tr style=\"text-align: right;\">\n",
       "      <th></th>\n",
       "      <th>Linear Regression</th>\n",
       "      <th>Random Forest</th>\n",
       "      <th>Extra Trees</th>\n",
       "      <th>Lasso Regression</th>\n",
       "      <th>Ridge Regression</th>\n",
       "      <th>Stochastic Gradient Design</th>\n",
       "    </tr>\n",
       "  </thead>\n",
       "  <tbody>\n",
       "    <tr>\n",
       "      <th>Mean Squared Error</th>\n",
       "      <td>0.245339</td>\n",
       "      <td>0.246907</td>\n",
       "      <td>0.247462</td>\n",
       "      <td>0.250000</td>\n",
       "      <td>0.245328</td>\n",
       "      <td>0.244234</td>\n",
       "    </tr>\n",
       "    <tr>\n",
       "      <th>Root Mean Squared Error</th>\n",
       "      <td>0.495317</td>\n",
       "      <td>0.496897</td>\n",
       "      <td>0.497456</td>\n",
       "      <td>0.500000</td>\n",
       "      <td>0.495306</td>\n",
       "      <td>0.494201</td>\n",
       "    </tr>\n",
       "    <tr>\n",
       "      <th>R2</th>\n",
       "      <td>-0.349802</td>\n",
       "      <td>-0.358429</td>\n",
       "      <td>-0.361484</td>\n",
       "      <td>-0.375446</td>\n",
       "      <td>-0.349742</td>\n",
       "      <td>-0.343724</td>\n",
       "    </tr>\n",
       "  </tbody>\n",
       "</table>\n",
       "</div>"
      ],
      "text/plain": [
       "                         Linear Regression  Random Forest  Extra Trees  \\\n",
       "Mean Squared Error                0.245339       0.246907     0.247462   \n",
       "Root Mean Squared Error           0.495317       0.496897     0.497456   \n",
       "R2                               -0.349802      -0.358429    -0.361484   \n",
       "\n",
       "                         Lasso Regression  Ridge Regression  \\\n",
       "Mean Squared Error               0.250000          0.245328   \n",
       "Root Mean Squared Error          0.500000          0.495306   \n",
       "R2                              -0.375446         -0.349742   \n",
       "\n",
       "                          Stochastic Gradient Design  \n",
       "Mean Squared Error                          0.244234  \n",
       "Root Mean Squared Error                     0.494201  \n",
       "R2                                         -0.343724  "
      ]
     },
     "execution_count": 15,
     "metadata": {},
     "output_type": "execute_result"
    }
   ],
   "source": [
    "# Convert model performance into df\n",
    "data= {'Linear Regression': [mse_lr,rmse_lr,r2_lr],\n",
    "       'Random Forest': [mse_rf,rmse_rf,r2_rf],\n",
    "       'Extra Trees': [mse_etr,rmse_etr,r2_etr],\n",
    "       'Lasso Regression': [mse_lasso,rmse_lasso,r2_lasso],\n",
    "        'Ridge Regression': [mse_ridge,rmse_ridge,r2_ridge],\n",
    "       ' Stochastic Gradient Design': [mse_sgd,rmse_sgd,r2_sgd]\n",
    "               }\n",
    "\n",
    "index={\"R2\",\"Mean Squared Error\",\"Root Mean Squared Error\"}\n",
    "\n",
    "model_summary=pd.DataFrame(data, index=index)\n",
    "model_summary"
   ]
  },
  {
   "cell_type": "markdown",
   "id": "39f99438-96a4-4538-8a11-63fff56a08c5",
   "metadata": {},
   "source": [
    "##### All R square have a negative value in the models selected above, indicating that the Regression models does not follow the trend of the data, so fits worse than a horizontal line. It is usually the case when there are constraints on either the intercept or the slope of the linear regression line.  "
   ]
  }
 ],
 "metadata": {
  "kernelspec": {
   "display_name": "Python 3",
   "language": "python",
   "name": "python3"
  },
  "language_info": {
   "codemirror_mode": {
    "name": "ipython",
    "version": 3
   },
   "file_extension": ".py",
   "mimetype": "text/x-python",
   "name": "python",
   "nbconvert_exporter": "python",
   "pygments_lexer": "ipython3",
   "version": "3.8.8"
  }
 },
 "nbformat": 4,
 "nbformat_minor": 5
}
